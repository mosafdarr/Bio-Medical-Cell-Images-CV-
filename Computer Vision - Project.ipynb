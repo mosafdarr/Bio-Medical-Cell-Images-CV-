{
 "cells": [
  {
   "cell_type": "markdown",
   "metadata": {
    "papermill": {
     "duration": 0.041706,
     "end_time": "2021-03-03T16:46:57.073561",
     "exception": false,
     "start_time": "2021-03-03T16:46:57.031855",
     "status": "completed"
    },
    "tags": []
   },
   "source": [
    "### Detecting Malaria cells using Convolutional Neural Network"
   ]
  },
  {
   "cell_type": "markdown",
   "metadata": {
    "papermill": {
     "duration": 0.037941,
     "end_time": "2021-03-03T16:46:57.151171",
     "exception": false,
     "start_time": "2021-03-03T16:46:57.113230",
     "status": "completed"
    },
    "tags": []
   },
   "source": [
    "**Importing Modules**"
   ]
  },
  {
   "cell_type": "code",
   "execution_count": 1,
   "metadata": {
    "execution": {
     "iopub.execute_input": "2021-03-03T16:46:57.233722Z",
     "iopub.status.busy": "2021-03-03T16:46:57.233061Z",
     "iopub.status.idle": "2021-03-03T16:47:02.714481Z",
     "shell.execute_reply": "2021-03-03T16:47:02.715664Z"
    },
    "papermill": {
     "duration": 5.526606,
     "end_time": "2021-03-03T16:47:02.716030",
     "exception": false,
     "start_time": "2021-03-03T16:46:57.189424",
     "status": "completed"
    },
    "tags": []
   },
   "outputs": [],
   "source": [
    "import os \n",
    "\n",
    "import numpy as np\n",
    "import pandas as pd\n",
    "\n",
    "import matplotlib.pyplot as plt\n",
    "from matplotlib.image import imread\n",
    "\n",
    "import seaborn as sns\n",
    "\n",
    "import tensorflow as tf\n",
    "from tensorflow import keras\n",
    "\n",
    "from tensorflow.keras.preprocessing.image import ImageDataGenerator\n",
    "\n",
    "from tensorflow.keras.models import Sequential\n",
    "from tensorflow.keras.layers import Conv2D, MaxPool2D, Flatten, Dense, Dropout\n",
    "\n",
    "from tensorflow.keras.callbacks import EarlyStopping\n",
    "\n",
    "from tensorflow.keras.preprocessing import image\n",
    "\n",
    "from sklearn.metrics import classification_report, confusion_matrix"
   ]
  },
  {
   "cell_type": "markdown",
   "metadata": {
    "papermill": {
     "duration": 0.068362,
     "end_time": "2021-03-03T16:47:02.855915",
     "exception": false,
     "start_time": "2021-03-03T16:47:02.787553",
     "status": "completed"
    },
    "tags": []
   },
   "source": [
    "**Reading Data**"
   ]
  },
  {
   "cell_type": "code",
   "execution_count": 2,
   "metadata": {
    "execution": {
     "iopub.execute_input": "2021-03-03T16:47:03.005910Z",
     "iopub.status.busy": "2021-03-03T16:47:03.005100Z",
     "iopub.status.idle": "2021-03-03T16:47:03.007304Z",
     "shell.execute_reply": "2021-03-03T16:47:03.006629Z"
    },
    "papermill": {
     "duration": 0.084273,
     "end_time": "2021-03-03T16:47:03.007453",
     "exception": false,
     "start_time": "2021-03-03T16:47:02.923180",
     "status": "completed"
    },
    "tags": []
   },
   "outputs": [],
   "source": [
    "data_dir = 'cell_images'"
   ]
  },
  {
   "cell_type": "code",
   "execution_count": 3,
   "metadata": {
    "execution": {
     "iopub.execute_input": "2021-03-03T16:47:03.136306Z",
     "iopub.status.busy": "2021-03-03T16:47:03.135662Z",
     "iopub.status.idle": "2021-03-03T16:47:03.180074Z",
     "shell.execute_reply": "2021-03-03T16:47:03.179179Z"
    },
    "papermill": {
     "duration": 0.103708,
     "end_time": "2021-03-03T16:47:03.180217",
     "exception": false,
     "start_time": "2021-03-03T16:47:03.076509",
     "status": "completed"
    },
    "tags": []
   },
   "outputs": [
    {
     "name": "stdout",
     "output_type": "stream",
     "text": [
      "['test', 'train']\n"
     ]
    }
   ],
   "source": [
    "print(os.listdir(data_dir))"
   ]
  },
  {
   "cell_type": "code",
   "execution_count": 4,
   "metadata": {
    "execution": {
     "iopub.execute_input": "2021-03-03T16:47:03.290303Z",
     "iopub.status.busy": "2021-03-03T16:47:03.289671Z",
     "iopub.status.idle": "2021-03-03T16:47:03.292750Z",
     "shell.execute_reply": "2021-03-03T16:47:03.292282Z"
    },
    "papermill": {
     "duration": 0.049611,
     "end_time": "2021-03-03T16:47:03.292859",
     "exception": false,
     "start_time": "2021-03-03T16:47:03.243248",
     "status": "completed"
    },
    "tags": []
   },
   "outputs": [],
   "source": [
    "test_path = data_dir + \"/test/\"\n",
    "train_path = data_dir + \"/train/\""
   ]
  },
  {
   "cell_type": "code",
   "execution_count": 5,
   "metadata": {
    "execution": {
     "iopub.execute_input": "2021-03-03T16:47:03.415476Z",
     "iopub.status.busy": "2021-03-03T16:47:03.414829Z",
     "iopub.status.idle": "2021-03-03T16:47:03.419830Z",
     "shell.execute_reply": "2021-03-03T16:47:03.419217Z"
    },
    "papermill": {
     "duration": 0.074497,
     "end_time": "2021-03-03T16:47:03.419963",
     "exception": false,
     "start_time": "2021-03-03T16:47:03.345466",
     "status": "completed"
    },
    "tags": []
   },
   "outputs": [
    {
     "data": {
      "text/plain": [
       "'../input/malaria-cell-images-dataset/cell_images/test/'"
      ]
     },
     "execution_count": 5,
     "metadata": {},
     "output_type": "execute_result"
    }
   ],
   "source": [
    "test_path"
   ]
  },
  {
   "cell_type": "code",
   "execution_count": 6,
   "metadata": {
    "execution": {
     "iopub.execute_input": "2021-03-03T16:47:03.548141Z",
     "iopub.status.busy": "2021-03-03T16:47:03.547362Z",
     "iopub.status.idle": "2021-03-03T16:47:03.550380Z",
     "shell.execute_reply": "2021-03-03T16:47:03.548778Z"
    },
    "papermill": {
     "duration": 0.069584,
     "end_time": "2021-03-03T16:47:03.550525",
     "exception": false,
     "start_time": "2021-03-03T16:47:03.480941",
     "status": "completed"
    },
    "tags": []
   },
   "outputs": [
    {
     "data": {
      "text/plain": [
       "'../input/malaria-cell-images-dataset/cell_images/train/'"
      ]
     },
     "execution_count": 6,
     "metadata": {},
     "output_type": "execute_result"
    }
   ],
   "source": [
    "train_path"
   ]
  },
  {
   "cell_type": "code",
   "execution_count": 7,
   "metadata": {
    "execution": {
     "iopub.execute_input": "2021-03-03T16:47:03.668111Z",
     "iopub.status.busy": "2021-03-03T16:47:03.667575Z",
     "iopub.status.idle": "2021-03-03T16:47:03.674891Z",
     "shell.execute_reply": "2021-03-03T16:47:03.675426Z"
    },
    "papermill": {
     "duration": 0.05296,
     "end_time": "2021-03-03T16:47:03.675609",
     "exception": false,
     "start_time": "2021-03-03T16:47:03.622649",
     "status": "completed"
    },
    "tags": []
   },
   "outputs": [
    {
     "name": "stdout",
     "output_type": "stream",
     "text": [
      "['uninfected', 'parasitized']\n"
     ]
    }
   ],
   "source": [
    "print(os.listdir(test_path))"
   ]
  },
  {
   "cell_type": "code",
   "execution_count": 8,
   "metadata": {
    "execution": {
     "iopub.execute_input": "2021-03-03T16:47:03.759613Z",
     "iopub.status.busy": "2021-03-03T16:47:03.759102Z",
     "iopub.status.idle": "2021-03-03T16:47:03.768005Z",
     "shell.execute_reply": "2021-03-03T16:47:03.767564Z"
    },
    "papermill": {
     "duration": 0.051883,
     "end_time": "2021-03-03T16:47:03.768107",
     "exception": false,
     "start_time": "2021-03-03T16:47:03.716224",
     "status": "completed"
    },
    "tags": []
   },
   "outputs": [
    {
     "name": "stdout",
     "output_type": "stream",
     "text": [
      "['uninfected', 'parasitized']\n"
     ]
    }
   ],
   "source": [
    "print(os.listdir(train_path))"
   ]
  },
  {
   "cell_type": "code",
   "execution_count": 9,
   "metadata": {
    "execution": {
     "iopub.execute_input": "2021-03-03T16:47:03.851838Z",
     "iopub.status.busy": "2021-03-03T16:47:03.851311Z",
     "iopub.status.idle": "2021-03-03T16:47:03.855058Z",
     "shell.execute_reply": "2021-03-03T16:47:03.854666Z"
    },
    "papermill": {
     "duration": 0.046684,
     "end_time": "2021-03-03T16:47:03.855160",
     "exception": false,
     "start_time": "2021-03-03T16:47:03.808476",
     "status": "completed"
    },
    "tags": []
   },
   "outputs": [],
   "source": [
    "# os.listdir(test_path + \"/parasitized/\")"
   ]
  },
  {
   "cell_type": "code",
   "execution_count": 10,
   "metadata": {
    "execution": {
     "iopub.execute_input": "2021-03-03T16:47:03.939956Z",
     "iopub.status.busy": "2021-03-03T16:47:03.939432Z",
     "iopub.status.idle": "2021-03-03T16:47:04.015353Z",
     "shell.execute_reply": "2021-03-03T16:47:04.014940Z"
    },
    "papermill": {
     "duration": 0.119123,
     "end_time": "2021-03-03T16:47:04.015450",
     "exception": false,
     "start_time": "2021-03-03T16:47:03.896327",
     "status": "completed"
    },
    "tags": []
   },
   "outputs": [
    {
     "data": {
      "text/plain": [
       "1300"
      ]
     },
     "execution_count": 10,
     "metadata": {},
     "output_type": "execute_result"
    }
   ],
   "source": [
    "len(os.listdir(test_path + \"/parasitized/\")) "
   ]
  },
  {
   "cell_type": "code",
   "execution_count": 11,
   "metadata": {
    "execution": {
     "iopub.execute_input": "2021-03-03T16:47:04.102459Z",
     "iopub.status.busy": "2021-03-03T16:47:04.100925Z",
     "iopub.status.idle": "2021-03-03T16:47:04.103122Z",
     "shell.execute_reply": "2021-03-03T16:47:04.103525Z"
    },
    "papermill": {
     "duration": 0.046552,
     "end_time": "2021-03-03T16:47:04.103639",
     "exception": false,
     "start_time": "2021-03-03T16:47:04.057087",
     "status": "completed"
    },
    "tags": []
   },
   "outputs": [],
   "source": [
    "# os.listdir(test_path + \"/uninfected/\")"
   ]
  },
  {
   "cell_type": "code",
   "execution_count": 12,
   "metadata": {
    "execution": {
     "iopub.execute_input": "2021-03-03T16:47:04.188834Z",
     "iopub.status.busy": "2021-03-03T16:47:04.188219Z",
     "iopub.status.idle": "2021-03-03T16:47:04.258610Z",
     "shell.execute_reply": "2021-03-03T16:47:04.258180Z"
    },
    "papermill": {
     "duration": 0.114202,
     "end_time": "2021-03-03T16:47:04.258719",
     "exception": false,
     "start_time": "2021-03-03T16:47:04.144517",
     "status": "completed"
    },
    "tags": []
   },
   "outputs": [
    {
     "data": {
      "text/plain": [
       "1300"
      ]
     },
     "execution_count": 12,
     "metadata": {},
     "output_type": "execute_result"
    }
   ],
   "source": [
    "len(os.listdir(test_path + \"/uninfected/\")) "
   ]
  },
  {
   "cell_type": "code",
   "execution_count": 13,
   "metadata": {
    "execution": {
     "iopub.execute_input": "2021-03-03T16:47:04.344542Z",
     "iopub.status.busy": "2021-03-03T16:47:04.343880Z",
     "iopub.status.idle": "2021-03-03T16:47:04.346306Z",
     "shell.execute_reply": "2021-03-03T16:47:04.346716Z"
    },
    "papermill": {
     "duration": 0.046911,
     "end_time": "2021-03-03T16:47:04.346837",
     "exception": false,
     "start_time": "2021-03-03T16:47:04.299926",
     "status": "completed"
    },
    "tags": []
   },
   "outputs": [],
   "source": [
    "# os.listdir(train_path + \"/parasitized/\")"
   ]
  },
  {
   "cell_type": "code",
   "execution_count": 14,
   "metadata": {
    "execution": {
     "iopub.execute_input": "2021-03-03T16:47:04.432558Z",
     "iopub.status.busy": "2021-03-03T16:47:04.432014Z",
     "iopub.status.idle": "2021-03-03T16:47:04.697957Z",
     "shell.execute_reply": "2021-03-03T16:47:04.698334Z"
    },
    "papermill": {
     "duration": 0.310618,
     "end_time": "2021-03-03T16:47:04.698472",
     "exception": false,
     "start_time": "2021-03-03T16:47:04.387854",
     "status": "completed"
    },
    "tags": []
   },
   "outputs": [
    {
     "data": {
      "text/plain": [
       "12480"
      ]
     },
     "execution_count": 14,
     "metadata": {},
     "output_type": "execute_result"
    }
   ],
   "source": [
    "len(os.listdir(train_path + \"/parasitized/\"))   "
   ]
  },
  {
   "cell_type": "code",
   "execution_count": 15,
   "metadata": {
    "execution": {
     "iopub.execute_input": "2021-03-03T16:47:04.786226Z",
     "iopub.status.busy": "2021-03-03T16:47:04.785555Z",
     "iopub.status.idle": "2021-03-03T16:47:04.787931Z",
     "shell.execute_reply": "2021-03-03T16:47:04.788373Z"
    },
    "papermill": {
     "duration": 0.047793,
     "end_time": "2021-03-03T16:47:04.788504",
     "exception": false,
     "start_time": "2021-03-03T16:47:04.740711",
     "status": "completed"
    },
    "tags": []
   },
   "outputs": [],
   "source": [
    "# os.listdir(train_path + \"/uninfected/\")"
   ]
  },
  {
   "cell_type": "code",
   "execution_count": 16,
   "metadata": {
    "execution": {
     "iopub.execute_input": "2021-03-03T16:47:04.876787Z",
     "iopub.status.busy": "2021-03-03T16:47:04.876255Z",
     "iopub.status.idle": "2021-03-03T16:47:05.149219Z",
     "shell.execute_reply": "2021-03-03T16:47:05.148762Z"
    },
    "papermill": {
     "duration": 0.318843,
     "end_time": "2021-03-03T16:47:05.149341",
     "exception": false,
     "start_time": "2021-03-03T16:47:04.830498",
     "status": "completed"
    },
    "tags": []
   },
   "outputs": [
    {
     "data": {
      "text/plain": [
       "12480"
      ]
     },
     "execution_count": 16,
     "metadata": {},
     "output_type": "execute_result"
    }
   ],
   "source": [
    "len(os.listdir(train_path + \"/uninfected/\"))  "
   ]
  },
  {
   "cell_type": "code",
   "execution_count": 17,
   "metadata": {
    "execution": {
     "iopub.execute_input": "2021-03-03T16:47:05.238869Z",
     "iopub.status.busy": "2021-03-03T16:47:05.238128Z",
     "iopub.status.idle": "2021-03-03T16:47:05.247708Z",
     "shell.execute_reply": "2021-03-03T16:47:05.247210Z"
    },
    "papermill": {
     "duration": 0.055093,
     "end_time": "2021-03-03T16:47:05.247817",
     "exception": false,
     "start_time": "2021-03-03T16:47:05.192724",
     "status": "completed"
    },
    "tags": []
   },
   "outputs": [
    {
     "data": {
      "text/plain": [
       "'C99P60ThinF_IMG_20150918_141001_cell_93.png'"
      ]
     },
     "execution_count": 17,
     "metadata": {},
     "output_type": "execute_result"
    }
   ],
   "source": [
    "os.listdir(train_path + \"/parasitized/\")[0]"
   ]
  },
  {
   "cell_type": "code",
   "execution_count": 18,
   "metadata": {
    "execution": {
     "iopub.execute_input": "2021-03-03T16:47:05.337577Z",
     "iopub.status.busy": "2021-03-03T16:47:05.336829Z",
     "iopub.status.idle": "2021-03-03T16:47:05.341954Z",
     "shell.execute_reply": "2021-03-03T16:47:05.341405Z"
    },
    "papermill": {
     "duration": 0.050855,
     "end_time": "2021-03-03T16:47:05.342057",
     "exception": false,
     "start_time": "2021-03-03T16:47:05.291202",
     "status": "completed"
    },
    "tags": []
   },
   "outputs": [
    {
     "data": {
      "text/plain": [
       "'C68P29N_ThinF_IMG_20150819_134712_cell_55.png'"
      ]
     },
     "execution_count": 18,
     "metadata": {},
     "output_type": "execute_result"
    }
   ],
   "source": [
    "os.listdir(test_path + \"/parasitized/\")[0]"
   ]
  },
  {
   "cell_type": "code",
   "execution_count": 19,
   "metadata": {
    "execution": {
     "iopub.execute_input": "2021-03-03T16:47:05.431176Z",
     "iopub.status.busy": "2021-03-03T16:47:05.430568Z",
     "iopub.status.idle": "2021-03-03T16:47:05.433311Z",
     "shell.execute_reply": "2021-03-03T16:47:05.432811Z"
    },
    "papermill": {
     "duration": 0.048669,
     "end_time": "2021-03-03T16:47:05.433408",
     "exception": false,
     "start_time": "2021-03-03T16:47:05.384739",
     "status": "completed"
    },
    "tags": []
   },
   "outputs": [],
   "source": [
    "para_cell = test_path + \"parasitized/\" + \"C68P29N_ThinF_IMG_20150819_134712_cell_55.png\""
   ]
  },
  {
   "cell_type": "code",
   "execution_count": 20,
   "metadata": {
    "execution": {
     "iopub.execute_input": "2021-03-03T16:47:05.522855Z",
     "iopub.status.busy": "2021-03-03T16:47:05.522137Z",
     "iopub.status.idle": "2021-03-03T16:47:05.525628Z",
     "shell.execute_reply": "2021-03-03T16:47:05.525226Z"
    },
    "papermill": {
     "duration": 0.049572,
     "end_time": "2021-03-03T16:47:05.525739",
     "exception": false,
     "start_time": "2021-03-03T16:47:05.476167",
     "status": "completed"
    },
    "tags": []
   },
   "outputs": [
    {
     "data": {
      "text/plain": [
       "'../input/malaria-cell-images-dataset/cell_images/test/parasitized/C68P29N_ThinF_IMG_20150819_134712_cell_55.png'"
      ]
     },
     "execution_count": 20,
     "metadata": {},
     "output_type": "execute_result"
    }
   ],
   "source": [
    "para_cell"
   ]
  },
  {
   "cell_type": "code",
   "execution_count": 21,
   "metadata": {
    "execution": {
     "iopub.execute_input": "2021-03-03T16:47:05.615439Z",
     "iopub.status.busy": "2021-03-03T16:47:05.614856Z",
     "iopub.status.idle": "2021-03-03T16:47:05.617680Z",
     "shell.execute_reply": "2021-03-03T16:47:05.617276Z"
    },
    "papermill": {
     "duration": 0.049053,
     "end_time": "2021-03-03T16:47:05.617792",
     "exception": false,
     "start_time": "2021-03-03T16:47:05.568739",
     "status": "completed"
    },
    "tags": []
   },
   "outputs": [],
   "source": [
    "# imread(para_cell)"
   ]
  },
  {
   "cell_type": "code",
   "execution_count": 22,
   "metadata": {
    "execution": {
     "iopub.execute_input": "2021-03-03T16:47:05.707795Z",
     "iopub.status.busy": "2021-03-03T16:47:05.707235Z",
     "iopub.status.idle": "2021-03-03T16:47:05.717610Z",
     "shell.execute_reply": "2021-03-03T16:47:05.717175Z"
    },
    "papermill": {
     "duration": 0.056587,
     "end_time": "2021-03-03T16:47:05.717725",
     "exception": false,
     "start_time": "2021-03-03T16:47:05.661138",
     "status": "completed"
    },
    "tags": []
   },
   "outputs": [
    {
     "data": {
      "text/plain": [
       "0.8862745"
      ]
     },
     "execution_count": 22,
     "metadata": {},
     "output_type": "execute_result"
    }
   ],
   "source": [
    "imread(para_cell).max()"
   ]
  },
  {
   "cell_type": "code",
   "execution_count": 23,
   "metadata": {
    "execution": {
     "iopub.execute_input": "2021-03-03T16:47:05.808959Z",
     "iopub.status.busy": "2021-03-03T16:47:05.808290Z",
     "iopub.status.idle": "2021-03-03T16:47:05.814684Z",
     "shell.execute_reply": "2021-03-03T16:47:05.814140Z"
    },
    "papermill": {
     "duration": 0.053039,
     "end_time": "2021-03-03T16:47:05.814787",
     "exception": false,
     "start_time": "2021-03-03T16:47:05.761748",
     "status": "completed"
    },
    "tags": []
   },
   "outputs": [
    {
     "data": {
      "text/plain": [
       "0.0"
      ]
     },
     "execution_count": 23,
     "metadata": {},
     "output_type": "execute_result"
    }
   ],
   "source": [
    "imread(para_cell).min()"
   ]
  },
  {
   "cell_type": "code",
   "execution_count": 24,
   "metadata": {
    "execution": {
     "iopub.execute_input": "2021-03-03T16:47:05.907646Z",
     "iopub.status.busy": "2021-03-03T16:47:05.906928Z",
     "iopub.status.idle": "2021-03-03T16:47:05.912624Z",
     "shell.execute_reply": "2021-03-03T16:47:05.912090Z"
    },
    "papermill": {
     "duration": 0.053488,
     "end_time": "2021-03-03T16:47:05.912741",
     "exception": false,
     "start_time": "2021-03-03T16:47:05.859253",
     "status": "completed"
    },
    "tags": []
   },
   "outputs": [
    {
     "data": {
      "text/plain": [
       "(136, 151, 3)"
      ]
     },
     "execution_count": 24,
     "metadata": {},
     "output_type": "execute_result"
    }
   ],
   "source": [
    "imread(para_cell).shape"
   ]
  },
  {
   "cell_type": "code",
   "execution_count": 25,
   "metadata": {
    "execution": {
     "iopub.execute_input": "2021-03-03T16:47:06.006607Z",
     "iopub.status.busy": "2021-03-03T16:47:06.005892Z",
     "iopub.status.idle": "2021-03-03T16:47:06.173219Z",
     "shell.execute_reply": "2021-03-03T16:47:06.173598Z"
    },
    "papermill": {
     "duration": 0.216234,
     "end_time": "2021-03-03T16:47:06.173740",
     "exception": false,
     "start_time": "2021-03-03T16:47:05.957506",
     "status": "completed"
    },
    "tags": []
   },
   "outputs": [
    {
     "data": {
      "text/plain": [
       "<matplotlib.image.AxesImage at 0x7f2e13f3bd50>"
      ]
     },
     "execution_count": 25,
     "metadata": {},
     "output_type": "execute_result"
    },
    {
     "data": {
      "image/png": "[encoded data removed]",
      "text/plain": [
       "<Figure size 432x288 with 1 Axes>"
      ]
     },
     "metadata": {
      "needs_background": "light"
     },
     "output_type": "display_data"
    }
   ],
   "source": [
    "plt.imshow(imread(para_cell))"
   ]
  },
  {
   "cell_type": "code",
   "execution_count": 26,
   "metadata": {
    "execution": {
     "iopub.execute_input": "2021-03-03T16:47:06.269822Z",
     "iopub.status.busy": "2021-03-03T16:47:06.269067Z",
     "iopub.status.idle": "2021-03-03T16:47:06.274423Z",
     "shell.execute_reply": "2021-03-03T16:47:06.274026Z"
    },
    "papermill": {
     "duration": 0.054547,
     "end_time": "2021-03-03T16:47:06.274554",
     "exception": false,
     "start_time": "2021-03-03T16:47:06.220007",
     "status": "completed"
    },
    "tags": []
   },
   "outputs": [
    {
     "data": {
      "text/plain": [
       "'C181P142ThinF_IMG_20151127_155722_cell_78.png'"
      ]
     },
     "execution_count": 26,
     "metadata": {},
     "output_type": "execute_result"
    }
   ],
   "source": [
    "os.listdir(test_path + \"/uninfected/\")[0]"
   ]
  },
  {
   "cell_type": "code",
   "execution_count": 27,
   "metadata": {
    "execution": {
     "iopub.execute_input": "2021-03-03T16:47:06.371571Z",
     "iopub.status.busy": "2021-03-03T16:47:06.370870Z",
     "iopub.status.idle": "2021-03-03T16:47:06.373512Z",
     "shell.execute_reply": "2021-03-03T16:47:06.373107Z"
    },
    "papermill": {
     "duration": 0.052464,
     "end_time": "2021-03-03T16:47:06.373617",
     "exception": false,
     "start_time": "2021-03-03T16:47:06.321153",
     "status": "completed"
    },
    "tags": []
   },
   "outputs": [],
   "source": [
    "uninfected_cell = test_path + \"uninfected/\" + \"C181P142ThinF_IMG_20151127_155722_cell_78.png\""
   ]
  },
  {
   "cell_type": "code",
   "execution_count": 28,
   "metadata": {
    "execution": {
     "iopub.execute_input": "2021-03-03T16:47:06.470415Z",
     "iopub.status.busy": "2021-03-03T16:47:06.469917Z",
     "iopub.status.idle": "2021-03-03T16:47:06.585475Z",
     "shell.execute_reply": "2021-03-03T16:47:06.585857Z"
    },
    "papermill": {
     "duration": 0.165896,
     "end_time": "2021-03-03T16:47:06.585979",
     "exception": false,
     "start_time": "2021-03-03T16:47:06.420083",
     "status": "completed"
    },
    "tags": []
   },
   "outputs": [
    {
     "data": {
      "text/plain": [
       "<matplotlib.image.AxesImage at 0x7f2e13e2bfd0>"
      ]
     },
     "execution_count": 28,
     "metadata": {},
     "output_type": "execute_result"
    },
    {
     "data": {
      "image/png": "[encoded data removed]",
      "text/plain": [
       "<Figure size 432x288 with 1 Axes>"
      ]
     },
     "metadata": {
      "needs_background": "light"
     },
     "output_type": "display_data"
    }
   ],
   "source": [
    "plt.imshow(imread(uninfected_cell))"
   ]
  },
  {
   "cell_type": "code",
   "execution_count": 29,
   "metadata": {
    "execution": {
     "iopub.execute_input": "2021-03-03T16:47:06.687730Z",
     "iopub.status.busy": "2021-03-03T16:47:06.686993Z",
     "iopub.status.idle": "2021-03-03T16:47:11.599616Z",
     "shell.execute_reply": "2021-03-03T16:47:11.598558Z"
    },
    "papermill": {
     "duration": 4.965371,
     "end_time": "2021-03-03T16:47:11.599775",
     "exception": false,
     "start_time": "2021-03-03T16:47:06.634404",
     "status": "completed"
    },
    "tags": []
   },
   "outputs": [],
   "source": [
    "dim1 = []\n",
    "dim2 = []\n",
    "\n",
    "for img_filename in os.listdir(test_path + \"uninfected\"):\n",
    "    img = imread(test_path + \"uninfected/\" + img_filename)\n",
    "    d1, d2, colors = img.shape\n",
    "    dim1.append(d1)\n",
    "    dim2.append(d2)"
   ]
  },
  {
   "cell_type": "code",
   "execution_count": 30,
   "metadata": {
    "execution": {
     "iopub.execute_input": "2021-03-03T16:47:11.700789Z",
     "iopub.status.busy": "2021-03-03T16:47:11.699898Z",
     "iopub.status.idle": "2021-03-03T16:47:11.702035Z",
     "shell.execute_reply": "2021-03-03T16:47:11.702410Z"
    },
    "papermill": {
     "duration": 0.054261,
     "end_time": "2021-03-03T16:47:11.702560",
     "exception": false,
     "start_time": "2021-03-03T16:47:11.648299",
     "status": "completed"
    },
    "tags": []
   },
   "outputs": [],
   "source": [
    "# dim1"
   ]
  },
  {
   "cell_type": "code",
   "execution_count": 31,
   "metadata": {
    "execution": {
     "iopub.execute_input": "2021-03-03T16:47:11.802241Z",
     "iopub.status.busy": "2021-03-03T16:47:11.801754Z",
     "iopub.status.idle": "2021-03-03T16:47:11.805827Z",
     "shell.execute_reply": "2021-03-03T16:47:11.805390Z"
    },
    "papermill": {
     "duration": 0.054987,
     "end_time": "2021-03-03T16:47:11.805934",
     "exception": false,
     "start_time": "2021-03-03T16:47:11.750947",
     "status": "completed"
    },
    "tags": []
   },
   "outputs": [],
   "source": [
    "# dim2"
   ]
  },
  {
   "cell_type": "code",
   "execution_count": 32,
   "metadata": {
    "execution": {
     "iopub.execute_input": "2021-03-03T16:47:11.907362Z",
     "iopub.status.busy": "2021-03-03T16:47:11.906553Z",
     "iopub.status.idle": "2021-03-03T16:47:11.912192Z",
     "shell.execute_reply": "2021-03-03T16:47:11.911735Z"
    },
    "papermill": {
     "duration": 0.058304,
     "end_time": "2021-03-03T16:47:11.912298",
     "exception": false,
     "start_time": "2021-03-03T16:47:11.853994",
     "status": "completed"
    },
    "tags": []
   },
   "outputs": [
    {
     "data": {
      "text/plain": [
       "130.92538461538462"
      ]
     },
     "execution_count": 32,
     "metadata": {},
     "output_type": "execute_result"
    }
   ],
   "source": [
    "np.mean(dim1)"
   ]
  },
  {
   "cell_type": "code",
   "execution_count": 33,
   "metadata": {
    "execution": {
     "iopub.execute_input": "2021-03-03T16:47:12.016374Z",
     "iopub.status.busy": "2021-03-03T16:47:12.015739Z",
     "iopub.status.idle": "2021-03-03T16:47:12.018994Z",
     "shell.execute_reply": "2021-03-03T16:47:12.019379Z"
    },
    "papermill": {
     "duration": 0.057985,
     "end_time": "2021-03-03T16:47:12.019507",
     "exception": false,
     "start_time": "2021-03-03T16:47:11.961522",
     "status": "completed"
    },
    "tags": []
   },
   "outputs": [
    {
     "data": {
      "text/plain": [
       "130.75"
      ]
     },
     "execution_count": 33,
     "metadata": {},
     "output_type": "execute_result"
    }
   ],
   "source": [
    "np.mean(dim2)"
   ]
  },
  {
   "cell_type": "code",
   "execution_count": 34,
   "metadata": {
    "execution": {
     "iopub.execute_input": "2021-03-03T16:47:12.123437Z",
     "iopub.status.busy": "2021-03-03T16:47:12.122292Z",
     "iopub.status.idle": "2021-03-03T16:47:12.124767Z",
     "shell.execute_reply": "2021-03-03T16:47:12.125167Z"
    },
    "papermill": {
     "duration": 0.055766,
     "end_time": "2021-03-03T16:47:12.125284",
     "exception": false,
     "start_time": "2021-03-03T16:47:12.069518",
     "status": "completed"
    },
    "tags": []
   },
   "outputs": [],
   "source": [
    "image_shape = (130, 130, 3)   # 130 * 130 * 3"
   ]
  },
  {
   "cell_type": "code",
   "execution_count": null,
   "metadata": {},
   "outputs": [],
   "source": []
  },
  {
   "cell_type": "code",
   "execution_count": 35,
   "metadata": {
    "execution": {
     "iopub.execute_input": "2021-03-03T16:47:12.243785Z",
     "iopub.status.busy": "2021-03-03T16:47:12.241144Z",
     "iopub.status.idle": "2021-03-03T16:47:12.723859Z",
     "shell.execute_reply": "2021-03-03T16:47:12.723371Z"
    },
    "papermill": {
     "duration": 0.549892,
     "end_time": "2021-03-03T16:47:12.723983",
     "exception": false,
     "start_time": "2021-03-03T16:47:12.174091",
     "status": "completed"
    },
    "tags": []
   },
   "outputs": [
    {
     "data": {
      "text/plain": [
       "<seaborn.axisgrid.JointGrid at 0x7f2e13dfd550>"
      ]
     },
     "execution_count": 35,
     "metadata": {},
     "output_type": "execute_result"
    },
    {
     "data": {
      "image/png": "[encoded data removed]",
      "text/plain": [
       "<Figure size 432x432 with 3 Axes>"
      ]
     },
     "metadata": {
      "needs_background": "light"
     },
     "output_type": "display_data"
    }
   ],
   "source": [
    "sns.jointplot(x=dim1, y=dim2)"
   ]
  },
  {
   "cell_type": "markdown",
   "metadata": {
    "papermill": {
     "duration": 0.050781,
     "end_time": "2021-03-03T16:47:12.825868",
     "exception": false,
     "start_time": "2021-03-03T16:47:12.775087",
     "status": "completed"
    },
    "tags": []
   },
   "source": [
    "**Data Processing**"
   ]
  },
  {
   "cell_type": "code",
   "execution_count": 36,
   "metadata": {
    "execution": {
     "iopub.execute_input": "2021-03-03T16:47:12.929896Z",
     "iopub.status.busy": "2021-03-03T16:47:12.929357Z",
     "iopub.status.idle": "2021-03-03T16:47:12.933146Z",
     "shell.execute_reply": "2021-03-03T16:47:12.932665Z"
    },
    "papermill": {
     "duration": 0.057208,
     "end_time": "2021-03-03T16:47:12.933267",
     "exception": false,
     "start_time": "2021-03-03T16:47:12.876059",
     "status": "completed"
    },
    "tags": []
   },
   "outputs": [],
   "source": [
    "# help(ImageDataGenerator)"
   ]
  },
  {
   "cell_type": "code",
   "execution_count": 37,
   "metadata": {
    "execution": {
     "iopub.execute_input": "2021-03-03T16:47:13.039103Z",
     "iopub.status.busy": "2021-03-03T16:47:13.038601Z",
     "iopub.status.idle": "2021-03-03T16:47:13.042215Z",
     "shell.execute_reply": "2021-03-03T16:47:13.042667Z"
    },
    "papermill": {
     "duration": 0.059431,
     "end_time": "2021-03-03T16:47:13.042800",
     "exception": false,
     "start_time": "2021-03-03T16:47:12.983369",
     "status": "completed"
    },
    "tags": []
   },
   "outputs": [],
   "source": [
    "image_gen = ImageDataGenerator(rotation_range=20,\n",
    "                              width_shift_range=0.1,\n",
    "                              height_shift_range=0.1,\n",
    "                              shear_range=0.1,\n",
    "                              zoom_range=0.1,\n",
    "                              horizontal_flip=True,\n",
    "                              fill_mode='nearest')"
   ]
  },
  {
   "cell_type": "code",
   "execution_count": 38,
   "metadata": {
    "execution": {
     "iopub.execute_input": "2021-03-03T16:47:13.148108Z",
     "iopub.status.busy": "2021-03-03T16:47:13.147393Z",
     "iopub.status.idle": "2021-03-03T16:47:13.297023Z",
     "shell.execute_reply": "2021-03-03T16:47:13.296594Z"
    },
    "papermill": {
     "duration": 0.203775,
     "end_time": "2021-03-03T16:47:13.297128",
     "exception": false,
     "start_time": "2021-03-03T16:47:13.093353",
     "status": "completed"
    },
    "tags": []
   },
   "outputs": [
    {
     "data": {
      "text/plain": [
       "<matplotlib.image.AxesImage at 0x7f2e128ac0d0>"
      ]
     },
     "execution_count": 38,
     "metadata": {},
     "output_type": "execute_result"
    },
    {
     "data": {
      "image/png": "[encoded data removed]",
      "text/plain": [
       "<Figure size 432x288 with 1 Axes>"
      ]
     },
     "metadata": {
      "needs_background": "light"
     },
     "output_type": "display_data"
    }
   ],
   "source": [
    "para_img = imread(para_cell)\n",
    "plt.imshow(para_img)"
   ]
  },
  {
   "cell_type": "code",
   "execution_count": 39,
   "metadata": {
    "execution": {
     "iopub.execute_input": "2021-03-03T16:47:13.407569Z",
     "iopub.status.busy": "2021-03-03T16:47:13.406877Z",
     "iopub.status.idle": "2021-03-03T16:47:13.611705Z",
     "shell.execute_reply": "2021-03-03T16:47:13.612794Z"
    },
    "papermill": {
     "duration": 0.263082,
     "end_time": "2021-03-03T16:47:13.613008",
     "exception": false,
     "start_time": "2021-03-03T16:47:13.349926",
     "status": "completed"
    },
    "tags": []
   },
   "outputs": [
    {
     "data": {
      "text/plain": [
       "<matplotlib.image.AxesImage at 0x7f2e1281a990>"
      ]
     },
     "execution_count": 39,
     "metadata": {},
     "output_type": "execute_result"
    },
    {
     "data": {
      "image/png": "[encoded data removed]",
      "text/plain": [
       "<Figure size 432x288 with 1 Axes>"
      ]
     },
     "metadata": {
      "needs_background": "light"
     },
     "output_type": "display_data"
    }
   ],
   "source": [
    "plt.imshow(image_gen.random_transform(para_img))"
   ]
  },
  {
   "cell_type": "code",
   "execution_count": 40,
   "metadata": {
    "execution": {
     "iopub.execute_input": "2021-03-03T16:47:13.902763Z",
     "iopub.status.busy": "2021-03-03T16:47:13.901910Z",
     "iopub.status.idle": "2021-03-03T16:47:27.046736Z",
     "shell.execute_reply": "2021-03-03T16:47:27.046303Z"
    },
    "papermill": {
     "duration": 13.342698,
     "end_time": "2021-03-03T16:47:27.046859",
     "exception": false,
     "start_time": "2021-03-03T16:47:13.704161",
     "status": "completed"
    },
    "tags": []
   },
   "outputs": [
    {
     "name": "stdout",
     "output_type": "stream",
     "text": [
      "Found 24958 images belonging to 2 classes.\n"
     ]
    },
    {
     "data": {
      "text/plain": [
       "<tensorflow.python.keras.preprocessing.image.DirectoryIterator at 0x7f2e127d2d10>"
      ]
     },
     "execution_count": 40,
     "metadata": {},
     "output_type": "execute_result"
    }
   ],
   "source": [
    "image_gen.flow_from_directory(train_path)"
   ]
  },
  {
   "cell_type": "code",
   "execution_count": 41,
   "metadata": {
    "execution": {
     "iopub.execute_input": "2021-03-03T16:47:27.160996Z",
     "iopub.status.busy": "2021-03-03T16:47:27.160452Z",
     "iopub.status.idle": "2021-03-03T16:47:27.920439Z",
     "shell.execute_reply": "2021-03-03T16:47:27.921092Z"
    },
    "papermill": {
     "duration": 0.818643,
     "end_time": "2021-03-03T16:47:27.921238",
     "exception": false,
     "start_time": "2021-03-03T16:47:27.102595",
     "status": "completed"
    },
    "tags": []
   },
   "outputs": [
    {
     "name": "stdout",
     "output_type": "stream",
     "text": [
      "Found 2600 images belonging to 2 classes.\n"
     ]
    },
    {
     "data": {
      "text/plain": [
       "<tensorflow.python.keras.preprocessing.image.DirectoryIterator at 0x7f2e127d2b50>"
      ]
     },
     "execution_count": 41,
     "metadata": {},
     "output_type": "execute_result"
    }
   ],
   "source": [
    "image_gen.flow_from_directory(test_path)"
   ]
  },
  {
   "cell_type": "markdown",
   "metadata": {
    "papermill": {
     "duration": 0.055793,
     "end_time": "2021-03-03T16:47:28.032219",
     "exception": false,
     "start_time": "2021-03-03T16:47:27.976426",
     "status": "completed"
    },
    "tags": []
   },
   "source": [
    "**Create the Mode**"
   ]
  },
  {
   "cell_type": "code",
   "execution_count": 42,
   "metadata": {
    "execution": {
     "iopub.execute_input": "2021-03-03T16:47:28.148883Z",
     "iopub.status.busy": "2021-03-03T16:47:28.147260Z",
     "iopub.status.idle": "2021-03-03T16:47:28.149653Z",
     "shell.execute_reply": "2021-03-03T16:47:28.150065Z"
    },
    "papermill": {
     "duration": 0.062014,
     "end_time": "2021-03-03T16:47:28.150192",
     "exception": false,
     "start_time": "2021-03-03T16:47:28.088178",
     "status": "completed"
    },
    "tags": []
   },
   "outputs": [],
   "source": [
    "image_shape = (130, 130, 3)"
   ]
  },
  {
   "cell_type": "code",
   "execution_count": 43,
   "metadata": {
    "execution": {
     "iopub.execute_input": "2021-03-03T16:47:28.400353Z",
     "iopub.status.busy": "2021-03-03T16:47:28.397023Z",
     "iopub.status.idle": "2021-03-03T16:47:31.188704Z",
     "shell.execute_reply": "2021-03-03T16:47:31.188216Z"
    },
    "papermill": {
     "duration": 2.983693,
     "end_time": "2021-03-03T16:47:31.188835",
     "exception": false,
     "start_time": "2021-03-03T16:47:28.205142",
     "status": "completed"
    },
    "tags": []
   },
   "outputs": [],
   "source": [
    "model = Sequential()\n",
    "\n",
    "model.add(Conv2D(filters=32, kernel_size=(3,3), input_shape=image_shape, activation='relu'))\n",
    "model.add(MaxPool2D(pool_size=(2, 2)))\n",
    "\n",
    "model.add(Conv2D(filters=64, kernel_size=(3,3), input_shape=image_shape, activation='relu'))\n",
    "model.add(MaxPool2D(pool_size=(2, 2)))\n",
    "\n",
    "model.add(Conv2D(filters=64, kernel_size=(3,3), input_shape=image_shape, activation='relu'))\n",
    "model.add(MaxPool2D(pool_size=(2, 2)))\n",
    "\n",
    "model.add(Flatten())\n",
    "model.add(Dense(128, activation='relu'))\n",
    "model.add(Dropout(0.5))\n",
    "\n",
    "model.add(Dense(1, activation='sigmoid'))\n",
    "\n",
    "model.compile(loss='binary_crossentropy', optimizer='adam', metrics=['accuracy'])"
   ]
  },
  {
   "cell_type": "code",
   "execution_count": 44,
   "metadata": {
    "execution": {
     "iopub.execute_input": "2021-03-03T16:47:31.305354Z",
     "iopub.status.busy": "2021-03-03T16:47:31.304154Z",
     "iopub.status.idle": "2021-03-03T16:47:31.313677Z",
     "shell.execute_reply": "2021-03-03T16:47:31.314269Z"
    },
    "papermill": {
     "duration": 0.069568,
     "end_time": "2021-03-03T16:47:31.314441",
     "exception": false,
     "start_time": "2021-03-03T16:47:31.244873",
     "status": "completed"
    },
    "tags": []
   },
   "outputs": [
    {
     "name": "stdout",
     "output_type": "stream",
     "text": [
      "Model: \"sequential\"\n",
      "_________________________________________________________________\n",
      "Layer (type)                 Output Shape              Param #   \n",
      "=================================================================\n",
      "conv2d (Conv2D)              (None, 128, 128, 32)      896       \n",
      "_________________________________________________________________\n",
      "max_pooling2d (MaxPooling2D) (None, 64, 64, 32)        0         \n",
      "_________________________________________________________________\n",
      "conv2d_1 (Conv2D)            (None, 62, 62, 64)        18496     \n",
      "_________________________________________________________________\n",
      "max_pooling2d_1 (MaxPooling2 (None, 31, 31, 64)        0         \n",
      "_________________________________________________________________\n",
      "conv2d_2 (Conv2D)            (None, 29, 29, 64)        36928     \n",
      "_________________________________________________________________\n",
      "max_pooling2d_2 (MaxPooling2 (None, 14, 14, 64)        0         \n",
      "_________________________________________________________________\n",
      "flatten (Flatten)            (None, 12544)             0         \n",
      "_________________________________________________________________\n",
      "dense (Dense)                (None, 128)               1605760   \n",
      "_________________________________________________________________\n",
      "dropout (Dropout)            (None, 128)               0         \n",
      "_________________________________________________________________\n",
      "dense_1 (Dense)              (None, 1)                 129       \n",
      "=================================================================\n",
      "Total params: 1,662,209\n",
      "Trainable params: 1,662,209\n",
      "Non-trainable params: 0\n",
      "_________________________________________________________________\n"
     ]
    }
   ],
   "source": [
    "model.summary()"
   ]
  },
  {
   "cell_type": "code",
   "execution_count": 45,
   "metadata": {
    "execution": {
     "iopub.execute_input": "2021-03-03T16:47:31.431218Z",
     "iopub.status.busy": "2021-03-03T16:47:31.430738Z",
     "iopub.status.idle": "2021-03-03T16:47:31.434877Z",
     "shell.execute_reply": "2021-03-03T16:47:31.434412Z"
    },
    "papermill": {
     "duration": 0.063233,
     "end_time": "2021-03-03T16:47:31.434982",
     "exception": false,
     "start_time": "2021-03-03T16:47:31.371749",
     "status": "completed"
    },
    "tags": []
   },
   "outputs": [],
   "source": [
    "batch_size = 16"
   ]
  },
  {
   "cell_type": "code",
   "execution_count": 46,
   "metadata": {
    "execution": {
     "iopub.execute_input": "2021-03-03T16:47:31.550129Z",
     "iopub.status.busy": "2021-03-03T16:47:31.549381Z",
     "iopub.status.idle": "2021-03-03T16:47:31.552944Z",
     "shell.execute_reply": "2021-03-03T16:47:31.552537Z"
    },
    "papermill": {
     "duration": 0.062605,
     "end_time": "2021-03-03T16:47:31.553047",
     "exception": false,
     "start_time": "2021-03-03T16:47:31.490442",
     "status": "completed"
    },
    "tags": []
   },
   "outputs": [
    {
     "data": {
      "text/plain": [
       "(130, 130)"
      ]
     },
     "execution_count": 46,
     "metadata": {},
     "output_type": "execute_result"
    }
   ],
   "source": [
    "image_shape[:2]"
   ]
  },
  {
   "cell_type": "code",
   "execution_count": 47,
   "metadata": {
    "execution": {
     "iopub.execute_input": "2021-03-03T16:47:31.669934Z",
     "iopub.status.busy": "2021-03-03T16:47:31.669388Z",
     "iopub.status.idle": "2021-03-03T16:47:32.843837Z",
     "shell.execute_reply": "2021-03-03T16:47:32.843359Z"
    },
    "papermill": {
     "duration": 1.234199,
     "end_time": "2021-03-03T16:47:32.843970",
     "exception": false,
     "start_time": "2021-03-03T16:47:31.609771",
     "status": "completed"
    },
    "tags": []
   },
   "outputs": [
    {
     "name": "stdout",
     "output_type": "stream",
     "text": [
      "Found 24958 images belonging to 2 classes.\n"
     ]
    }
   ],
   "source": [
    "train_image_gen = image_gen.flow_from_directory(train_path,\n",
    "                                               target_size=image_shape[:2],\n",
    "                                               color_mode='rgb',\n",
    "                                               batch_size=batch_size,\n",
    "                                               class_mode='binary')"
   ]
  },
  {
   "cell_type": "code",
   "execution_count": 48,
   "metadata": {
    "execution": {
     "iopub.execute_input": "2021-03-03T16:47:32.967655Z",
     "iopub.status.busy": "2021-03-03T16:47:32.967063Z",
     "iopub.status.idle": "2021-03-03T16:47:33.178549Z",
     "shell.execute_reply": "2021-03-03T16:47:33.177915Z"
    },
    "papermill": {
     "duration": 0.274049,
     "end_time": "2021-03-03T16:47:33.178706",
     "exception": false,
     "start_time": "2021-03-03T16:47:32.904657",
     "status": "completed"
    },
    "tags": []
   },
   "outputs": [
    {
     "name": "stdout",
     "output_type": "stream",
     "text": [
      "Found 2600 images belonging to 2 classes.\n"
     ]
    }
   ],
   "source": [
    "test_image_gen = image_gen.flow_from_directory(test_path,\n",
    "                                               target_size=image_shape[:2],\n",
    "                                               color_mode='rgb',\n",
    "                                               batch_size=batch_size,\n",
    "                                               class_mode='binary',\n",
    "                                               shuffle=False)"
   ]
  },
  {
   "cell_type": "code",
   "execution_count": 49,
   "metadata": {
    "execution": {
     "iopub.execute_input": "2021-03-03T16:47:33.298441Z",
     "iopub.status.busy": "2021-03-03T16:47:33.297629Z",
     "iopub.status.idle": "2021-03-03T16:47:33.301036Z",
     "shell.execute_reply": "2021-03-03T16:47:33.301533Z"
    },
    "papermill": {
     "duration": 0.064409,
     "end_time": "2021-03-03T16:47:33.301658",
     "exception": false,
     "start_time": "2021-03-03T16:47:33.237249",
     "status": "completed"
    },
    "tags": []
   },
   "outputs": [
    {
     "data": {
      "text/plain": [
       "{'parasitized': 0, 'uninfected': 1}"
      ]
     },
     "execution_count": 49,
     "metadata": {},
     "output_type": "execute_result"
    }
   ],
   "source": [
    "train_image_gen.class_indices"
   ]
  },
  {
   "cell_type": "code",
   "execution_count": 50,
   "metadata": {
    "execution": {
     "iopub.execute_input": "2021-03-03T16:47:33.419260Z",
     "iopub.status.busy": "2021-03-03T16:47:33.418621Z",
     "iopub.status.idle": "2021-03-03T16:47:33.421547Z",
     "shell.execute_reply": "2021-03-03T16:47:33.421054Z"
    },
    "papermill": {
     "duration": 0.062833,
     "end_time": "2021-03-03T16:47:33.421650",
     "exception": false,
     "start_time": "2021-03-03T16:47:33.358817",
     "status": "completed"
    },
    "tags": []
   },
   "outputs": [],
   "source": [
    "# from tensorflow.keras.callbacks import EarlyStopping"
   ]
  },
  {
   "cell_type": "code",
   "execution_count": 51,
   "metadata": {
    "execution": {
     "iopub.execute_input": "2021-03-03T16:47:33.539851Z",
     "iopub.status.busy": "2021-03-03T16:47:33.539173Z",
     "iopub.status.idle": "2021-03-03T16:47:33.541968Z",
     "shell.execute_reply": "2021-03-03T16:47:33.541515Z"
    },
    "papermill": {
     "duration": 0.063212,
     "end_time": "2021-03-03T16:47:33.542069",
     "exception": false,
     "start_time": "2021-03-03T16:47:33.478857",
     "status": "completed"
    },
    "tags": []
   },
   "outputs": [],
   "source": [
    "early_stop = EarlyStopping(monitor='val_loss', patience=2)"
   ]
  },
  {
   "cell_type": "code",
   "execution_count": 52,
   "metadata": {
    "execution": {
     "iopub.execute_input": "2021-03-03T16:47:33.660597Z",
     "iopub.status.busy": "2021-03-03T16:47:33.660072Z",
     "iopub.status.idle": "2021-03-03T17:12:05.743284Z",
     "shell.execute_reply": "2021-03-03T17:12:05.742836Z"
    },
    "papermill": {
     "duration": 1472.144042,
     "end_time": "2021-03-03T17:12:05.743419",
     "exception": false,
     "start_time": "2021-03-03T16:47:33.599377",
     "status": "completed"
    },
    "tags": []
   },
   "outputs": [
    {
     "name": "stdout",
     "output_type": "stream",
     "text": [
      "Epoch 1/20\n",
      "1560/1560 [==============================] - 192s 121ms/step - loss: 2.7425 - accuracy: 0.5424 - val_loss: 0.6856 - val_accuracy: 0.5492\n",
      "Epoch 2/20\n",
      "1560/1560 [==============================] - 136s 87ms/step - loss: 0.6840 - accuracy: 0.5668 - val_loss: 0.6728 - val_accuracy: 0.5842\n",
      "Epoch 3/20\n",
      "1560/1560 [==============================] - 145s 93ms/step - loss: 0.6744 - accuracy: 0.5841 - val_loss: 0.6704 - val_accuracy: 0.6062\n",
      "Epoch 4/20\n",
      "1560/1560 [==============================] - 138s 89ms/step - loss: 0.6490 - accuracy: 0.6202 - val_loss: 0.2264 - val_accuracy: 0.9327\n",
      "Epoch 5/20\n",
      "1560/1560 [==============================] - 140s 90ms/step - loss: 0.2140 - accuracy: 0.9335 - val_loss: 0.1881 - val_accuracy: 0.9381\n",
      "Epoch 6/20\n",
      "1560/1560 [==============================] - 140s 90ms/step - loss: 0.1799 - accuracy: 0.9422 - val_loss: 0.1808 - val_accuracy: 0.9396\n",
      "Epoch 7/20\n",
      "1560/1560 [==============================] - 142s 91ms/step - loss: 0.1653 - accuracy: 0.9483 - val_loss: 0.1799 - val_accuracy: 0.9412\n",
      "Epoch 8/20\n",
      "1560/1560 [==============================] - 144s 92ms/step - loss: 0.1787 - accuracy: 0.9451 - val_loss: 0.1671 - val_accuracy: 0.9485\n",
      "Epoch 9/20\n",
      "1560/1560 [==============================] - 146s 93ms/step - loss: 0.1743 - accuracy: 0.9447 - val_loss: 0.1686 - val_accuracy: 0.9454\n",
      "Epoch 10/20\n",
      "1560/1560 [==============================] - 149s 96ms/step - loss: 0.1723 - accuracy: 0.9468 - val_loss: 0.1705 - val_accuracy: 0.9462\n"
     ]
    }
   ],
   "source": [
    "results = model.fit(train_image_gen, epochs=20,\n",
    "                    validation_data=test_image_gen,\n",
    "                    callbacks=[early_stop])"
   ]
  },
  {
   "cell_type": "code",
   "execution_count": 53,
   "metadata": {
    "execution": {
     "iopub.execute_input": "2021-03-03T17:12:14.208734Z",
     "iopub.status.busy": "2021-03-03T17:12:14.207816Z",
     "iopub.status.idle": "2021-03-03T17:12:14.263552Z",
     "shell.execute_reply": "2021-03-03T17:12:14.263054Z"
    },
    "papermill": {
     "duration": 4.167107,
     "end_time": "2021-03-03T17:12:14.263695",
     "exception": false,
     "start_time": "2021-03-03T17:12:10.096588",
     "status": "completed"
    },
    "tags": []
   },
   "outputs": [],
   "source": [
    "model.save('malaria_detector.h5')"
   ]
  },
  {
   "cell_type": "code",
   "execution_count": 54,
   "metadata": {
    "execution": {
     "iopub.execute_input": "2021-03-03T17:12:22.677215Z",
     "iopub.status.busy": "2021-03-03T17:12:22.676335Z",
     "iopub.status.idle": "2021-03-03T17:12:22.679182Z",
     "shell.execute_reply": "2021-03-03T17:12:22.679590Z"
    },
    "papermill": {
     "duration": 4.347054,
     "end_time": "2021-03-03T17:12:22.679724",
     "exception": false,
     "start_time": "2021-03-03T17:12:18.332670",
     "status": "completed"
    },
    "tags": []
   },
   "outputs": [
    {
     "data": {
      "text/plain": [
       "{'loss': [0.9925336241722107,\n",
       "  0.6803160309791565,\n",
       "  0.6750975251197815,\n",
       "  0.5580654144287109,\n",
       "  0.20363874733448029,\n",
       "  0.18206627666950226,\n",
       "  0.17394286394119263,\n",
       "  0.17546728253364563,\n",
       "  0.17222175002098083,\n",
       "  0.17039944231510162],\n",
       " 'accuracy': [0.553129255771637,\n",
       "  0.5760477781295776,\n",
       "  0.5882682800292969,\n",
       "  0.6926436424255371,\n",
       "  0.9370943307876587,\n",
       "  0.9424633383750916,\n",
       "  0.9464300274848938,\n",
       "  0.9455084800720215,\n",
       "  0.9462697505950928,\n",
       "  0.9484734535217285],\n",
       " 'val_loss': [0.6855610013008118,\n",
       "  0.6727866530418396,\n",
       "  0.670435905456543,\n",
       "  0.22640317678451538,\n",
       "  0.1881060004234314,\n",
       "  0.18084155023097992,\n",
       "  0.17991416156291962,\n",
       "  0.16714511811733246,\n",
       "  0.16858351230621338,\n",
       "  0.1705000400543213],\n",
       " 'val_accuracy': [0.5492307543754578,\n",
       "  0.5842307806015015,\n",
       "  0.6061538457870483,\n",
       "  0.932692289352417,\n",
       "  0.938076913356781,\n",
       "  0.9396153688430786,\n",
       "  0.9411538243293762,\n",
       "  0.9484615325927734,\n",
       "  0.9453846216201782,\n",
       "  0.9461538195610046]}"
      ]
     },
     "execution_count": 54,
     "metadata": {},
     "output_type": "execute_result"
    }
   ],
   "source": [
    "model.history.history"
   ]
  },
  {
   "cell_type": "markdown",
   "metadata": {
    "papermill": {
     "duration": 4.004095,
     "end_time": "2021-03-03T17:12:30.716515",
     "exception": false,
     "start_time": "2021-03-03T17:12:26.712420",
     "status": "completed"
    },
    "tags": []
   },
   "source": [
    "**Evaluating the Model**"
   ]
  },
  {
   "cell_type": "code",
   "execution_count": 55,
   "metadata": {
    "execution": {
     "iopub.execute_input": "2021-03-03T17:12:39.549004Z",
     "iopub.status.busy": "2021-03-03T17:12:39.548439Z",
     "iopub.status.idle": "2021-03-03T17:12:39.697431Z",
     "shell.execute_reply": "2021-03-03T17:12:39.697855Z"
    },
    "papermill": {
     "duration": 4.129223,
     "end_time": "2021-03-03T17:12:39.698009",
     "exception": false,
     "start_time": "2021-03-03T17:12:35.568786",
     "status": "completed"
    },
    "tags": []
   },
   "outputs": [
    {
     "data": {
      "text/plain": [
       "<AxesSubplot:>"
      ]
     },
     "execution_count": 55,
     "metadata": {},
     "output_type": "execute_result"
    },
    {
     "data": {
      "image/png": "[encoded data removed]",
      "text/plain": [
       "<Figure size 432x288 with 1 Axes>"
      ]
     },
     "metadata": {
      "needs_background": "light"
     },
     "output_type": "display_data"
    }
   ],
   "source": [
    "losses = pd.DataFrame(model.history.history)\n",
    "losses[['loss', 'val_loss']].plot()"
   ]
  },
  {
   "cell_type": "code",
   "execution_count": 56,
   "metadata": {
    "execution": {
     "iopub.execute_input": "2021-03-03T17:12:47.987821Z",
     "iopub.status.busy": "2021-03-03T17:12:47.987210Z",
     "iopub.status.idle": "2021-03-03T17:13:00.328280Z",
     "shell.execute_reply": "2021-03-03T17:13:00.327831Z"
    },
    "papermill": {
     "duration": 16.346137,
     "end_time": "2021-03-03T17:13:00.328424",
     "exception": false,
     "start_time": "2021-03-03T17:12:43.982287",
     "status": "completed"
    },
    "tags": []
   },
   "outputs": [
    {
     "name": "stdout",
     "output_type": "stream",
     "text": [
      "163/163 [==============================] - 12s 75ms/step - loss: 0.1696 - accuracy: 0.9454\n"
     ]
    },
    {
     "data": {
      "text/plain": [
       "[0.16962933540344238, 0.9453846216201782]"
      ]
     },
     "execution_count": 56,
     "metadata": {},
     "output_type": "execute_result"
    }
   ],
   "source": [
    "model.evaluate(test_image_gen)"
   ]
  },
  {
   "cell_type": "code",
   "execution_count": 57,
   "metadata": {
    "execution": {
     "iopub.execute_input": "2021-03-03T17:13:09.275900Z",
     "iopub.status.busy": "2021-03-03T17:13:09.275178Z",
     "iopub.status.idle": "2021-03-03T17:13:09.278767Z",
     "shell.execute_reply": "2021-03-03T17:13:09.278345Z"
    },
    "papermill": {
     "duration": 4.49623,
     "end_time": "2021-03-03T17:13:09.278882",
     "exception": false,
     "start_time": "2021-03-03T17:13:04.782652",
     "status": "completed"
    },
    "tags": []
   },
   "outputs": [
    {
     "data": {
      "text/plain": [
       "['loss', 'accuracy']"
      ]
     },
     "execution_count": 57,
     "metadata": {},
     "output_type": "execute_result"
    }
   ],
   "source": [
    "model.metrics_names"
   ]
  },
  {
   "cell_type": "code",
   "execution_count": 58,
   "metadata": {
    "execution": {
     "iopub.execute_input": "2021-03-03T17:13:17.655647Z",
     "iopub.status.busy": "2021-03-03T17:13:17.655042Z",
     "iopub.status.idle": "2021-03-03T17:13:29.729548Z",
     "shell.execute_reply": "2021-03-03T17:13:29.728058Z"
    },
    "papermill": {
     "duration": 16.383103,
     "end_time": "2021-03-03T17:13:29.729686",
     "exception": false,
     "start_time": "2021-03-03T17:13:13.346583",
     "status": "completed"
    },
    "tags": []
   },
   "outputs": [],
   "source": [
    "pred = model.predict(test_image_gen)"
   ]
  },
  {
   "cell_type": "code",
   "execution_count": 59,
   "metadata": {
    "execution": {
     "iopub.execute_input": "2021-03-03T17:13:38.716832Z",
     "iopub.status.busy": "2021-03-03T17:13:38.716062Z",
     "iopub.status.idle": "2021-03-03T17:13:38.719040Z",
     "shell.execute_reply": "2021-03-03T17:13:38.719433Z"
    },
    "papermill": {
     "duration": 4.897927,
     "end_time": "2021-03-03T17:13:38.719600",
     "exception": false,
     "start_time": "2021-03-03T17:13:33.821673",
     "status": "completed"
    },
    "tags": []
   },
   "outputs": [
    {
     "data": {
      "text/plain": [
       "array([[1.5709060e-04],\n",
       "       [6.7946785e-05],\n",
       "       [5.9292978e-04],\n",
       "       ...,\n",
       "       [9.7811252e-01],\n",
       "       [9.7834957e-01],\n",
       "       [9.6896052e-01]], dtype=float32)"
      ]
     },
     "execution_count": 59,
     "metadata": {},
     "output_type": "execute_result"
    }
   ],
   "source": [
    "pred"
   ]
  },
  {
   "cell_type": "code",
   "execution_count": 60,
   "metadata": {
    "execution": {
     "iopub.execute_input": "2021-03-03T17:13:46.854450Z",
     "iopub.status.busy": "2021-03-03T17:13:46.853362Z",
     "iopub.status.idle": "2021-03-03T17:13:46.855144Z",
     "shell.execute_reply": "2021-03-03T17:13:46.855571Z"
    },
    "papermill": {
     "duration": 4.037122,
     "end_time": "2021-03-03T17:13:46.855712",
     "exception": false,
     "start_time": "2021-03-03T17:13:42.818590",
     "status": "completed"
    },
    "tags": []
   },
   "outputs": [],
   "source": [
    "predictions = pred > 0.5"
   ]
  },
  {
   "cell_type": "code",
   "execution_count": 61,
   "metadata": {
    "execution": {
     "iopub.execute_input": "2021-03-03T17:13:55.222446Z",
     "iopub.status.busy": "2021-03-03T17:13:55.221682Z",
     "iopub.status.idle": "2021-03-03T17:13:55.224878Z",
     "shell.execute_reply": "2021-03-03T17:13:55.225313Z"
    },
    "papermill": {
     "duration": 4.041132,
     "end_time": "2021-03-03T17:13:55.225444",
     "exception": false,
     "start_time": "2021-03-03T17:13:51.184312",
     "status": "completed"
    },
    "tags": []
   },
   "outputs": [
    {
     "data": {
      "text/plain": [
       "array([[False],\n",
       "       [False],\n",
       "       [False],\n",
       "       ...,\n",
       "       [ True],\n",
       "       [ True],\n",
       "       [ True]])"
      ]
     },
     "execution_count": 61,
     "metadata": {},
     "output_type": "execute_result"
    }
   ],
   "source": [
    "predictions"
   ]
  },
  {
   "cell_type": "code",
   "execution_count": 62,
   "metadata": {
    "execution": {
     "iopub.execute_input": "2021-03-03T17:14:03.743850Z",
     "iopub.status.busy": "2021-03-03T17:14:03.743114Z",
     "iopub.status.idle": "2021-03-03T17:14:03.746222Z",
     "shell.execute_reply": "2021-03-03T17:14:03.746658Z"
    },
    "papermill": {
     "duration": 4.523157,
     "end_time": "2021-03-03T17:14:03.746794",
     "exception": false,
     "start_time": "2021-03-03T17:13:59.223637",
     "status": "completed"
    },
    "tags": []
   },
   "outputs": [
    {
     "data": {
      "text/plain": [
       "2600"
      ]
     },
     "execution_count": 62,
     "metadata": {},
     "output_type": "execute_result"
    }
   ],
   "source": [
    "len(pred)"
   ]
  },
  {
   "cell_type": "code",
   "execution_count": 63,
   "metadata": {
    "execution": {
     "iopub.execute_input": "2021-03-03T17:14:12.611338Z",
     "iopub.status.busy": "2021-03-03T17:14:12.610497Z",
     "iopub.status.idle": "2021-03-03T17:14:12.613166Z",
     "shell.execute_reply": "2021-03-03T17:14:12.612743Z"
    },
    "papermill": {
     "duration": 4.786721,
     "end_time": "2021-03-03T17:14:12.613283",
     "exception": false,
     "start_time": "2021-03-03T17:14:07.826562",
     "status": "completed"
    },
    "tags": []
   },
   "outputs": [],
   "source": [
    "# from sklearn.metrics import classification_report, confusion_matrix"
   ]
  },
  {
   "cell_type": "code",
   "execution_count": 64,
   "metadata": {
    "execution": {
     "iopub.execute_input": "2021-03-03T17:14:20.789431Z",
     "iopub.status.busy": "2021-03-03T17:14:20.788678Z",
     "iopub.status.idle": "2021-03-03T17:14:20.792245Z",
     "shell.execute_reply": "2021-03-03T17:14:20.791850Z"
    },
    "papermill": {
     "duration": 4.107624,
     "end_time": "2021-03-03T17:14:20.792373",
     "exception": false,
     "start_time": "2021-03-03T17:14:16.684749",
     "status": "completed"
    },
    "tags": []
   },
   "outputs": [
    {
     "data": {
      "text/plain": [
       "array([0, 0, 0, ..., 1, 1, 1], dtype=int32)"
      ]
     },
     "execution_count": 64,
     "metadata": {},
     "output_type": "execute_result"
    }
   ],
   "source": [
    "test_image_gen.classes"
   ]
  },
  {
   "cell_type": "code",
   "execution_count": 65,
   "metadata": {
    "execution": {
     "iopub.execute_input": "2021-03-03T17:14:29.123687Z",
     "iopub.status.busy": "2021-03-03T17:14:29.122880Z",
     "iopub.status.idle": "2021-03-03T17:14:29.133544Z",
     "shell.execute_reply": "2021-03-03T17:14:29.134226Z"
    },
    "papermill": {
     "duration": 4.079618,
     "end_time": "2021-03-03T17:14:29.134406",
     "exception": false,
     "start_time": "2021-03-03T17:14:25.054788",
     "status": "completed"
    },
    "tags": []
   },
   "outputs": [
    {
     "name": "stdout",
     "output_type": "stream",
     "text": [
      "              precision    recall  f1-score   support\n",
      "\n",
      "           0       0.96      0.93      0.94      1300\n",
      "           1       0.93      0.96      0.94      1300\n",
      "\n",
      "    accuracy                           0.94      2600\n",
      "   macro avg       0.94      0.94      0.94      2600\n",
      "weighted avg       0.94      0.94      0.94      2600\n",
      "\n"
     ]
    }
   ],
   "source": [
    "print(classification_report(test_image_gen.classes, predictions))"
   ]
  },
  {
   "cell_type": "code",
   "execution_count": 66,
   "metadata": {
    "execution": {
     "iopub.execute_input": "2021-03-03T17:14:37.466252Z",
     "iopub.status.busy": "2021-03-03T17:14:37.465452Z",
     "iopub.status.idle": "2021-03-03T17:14:37.480017Z",
     "shell.execute_reply": "2021-03-03T17:14:37.479610Z"
    },
    "papermill": {
     "duration": 4.030963,
     "end_time": "2021-03-03T17:14:37.480135",
     "exception": false,
     "start_time": "2021-03-03T17:14:33.449172",
     "status": "completed"
    },
    "tags": []
   },
   "outputs": [
    {
     "name": "stdout",
     "output_type": "stream",
     "text": [
      "[[1209   91]\n",
      " [  55 1245]]\n"
     ]
    }
   ],
   "source": [
    "print(confusion_matrix(test_image_gen.classes, predictions))"
   ]
  },
  {
   "cell_type": "code",
   "execution_count": 67,
   "metadata": {
    "execution": {
     "iopub.execute_input": "2021-03-03T17:14:46.464739Z",
     "iopub.status.busy": "2021-03-03T17:14:46.463856Z",
     "iopub.status.idle": "2021-03-03T17:14:46.466642Z",
     "shell.execute_reply": "2021-03-03T17:14:46.466205Z"
    },
    "papermill": {
     "duration": 4.890701,
     "end_time": "2021-03-03T17:14:46.466760",
     "exception": false,
     "start_time": "2021-03-03T17:14:41.576059",
     "status": "completed"
    },
    "tags": []
   },
   "outputs": [],
   "source": [
    "# How to predict on a single image "
   ]
  },
  {
   "cell_type": "code",
   "execution_count": 68,
   "metadata": {
    "execution": {
     "iopub.execute_input": "2021-03-03T17:14:54.767416Z",
     "iopub.status.busy": "2021-03-03T17:14:54.766395Z",
     "iopub.status.idle": "2021-03-03T17:14:54.770139Z",
     "shell.execute_reply": "2021-03-03T17:14:54.771013Z"
    },
    "papermill": {
     "duration": 4.291095,
     "end_time": "2021-03-03T17:14:54.771235",
     "exception": false,
     "start_time": "2021-03-03T17:14:50.480140",
     "status": "completed"
    },
    "tags": []
   },
   "outputs": [
    {
     "data": {
      "text/plain": [
       "'../input/malaria-cell-images-dataset/cell_images/test/parasitized/C68P29N_ThinF_IMG_20150819_134712_cell_55.png'"
      ]
     },
     "execution_count": 68,
     "metadata": {},
     "output_type": "execute_result"
    }
   ],
   "source": [
    "para_cell"
   ]
  },
  {
   "cell_type": "code",
   "execution_count": 69,
   "metadata": {
    "execution": {
     "iopub.execute_input": "2021-03-03T17:15:03.296706Z",
     "iopub.status.busy": "2021-03-03T17:15:03.295977Z",
     "iopub.status.idle": "2021-03-03T17:15:03.313827Z",
     "shell.execute_reply": "2021-03-03T17:15:03.313354Z"
    },
    "papermill": {
     "duration": 4.14915,
     "end_time": "2021-03-03T17:15:03.313948",
     "exception": false,
     "start_time": "2021-03-03T17:14:59.164798",
     "status": "completed"
    },
    "tags": []
   },
   "outputs": [
    {
     "data": {
      "image/png": "[encoded data removed]",
      "text/plain": [
       "<PIL.PngImagePlugin.PngImageFile image mode=RGB size=151x136 at 0x7F2D88685790>"
      ]
     },
     "execution_count": 69,
     "metadata": {},
     "output_type": "execute_result"
    }
   ],
   "source": [
    "image.load_img(para_cell)"
   ]
  },
  {
   "cell_type": "code",
   "execution_count": 70,
   "metadata": {
    "execution": {
     "iopub.execute_input": "2021-03-03T17:15:11.757852Z",
     "iopub.status.busy": "2021-03-03T17:15:11.757258Z",
     "iopub.status.idle": "2021-03-03T17:15:11.764571Z",
     "shell.execute_reply": "2021-03-03T17:15:11.764146Z"
    },
    "papermill": {
     "duration": 4.127131,
     "end_time": "2021-03-03T17:15:11.764688",
     "exception": false,
     "start_time": "2021-03-03T17:15:07.637557",
     "status": "completed"
    },
    "tags": []
   },
   "outputs": [
    {
     "data": {
      "text/plain": [
       "PIL.PngImagePlugin.PngImageFile"
      ]
     },
     "execution_count": 70,
     "metadata": {},
     "output_type": "execute_result"
    }
   ],
   "source": [
    "type(image.load_img(para_cell))"
   ]
  },
  {
   "cell_type": "code",
   "execution_count": 71,
   "metadata": {
    "execution": {
     "iopub.execute_input": "2021-03-03T17:15:20.591783Z",
     "iopub.status.busy": "2021-03-03T17:15:20.591224Z",
     "iopub.status.idle": "2021-03-03T17:15:20.598081Z",
     "shell.execute_reply": "2021-03-03T17:15:20.597538Z"
    },
    "papermill": {
     "duration": 4.299193,
     "end_time": "2021-03-03T17:15:20.598200",
     "exception": false,
     "start_time": "2021-03-03T17:15:16.299007",
     "status": "completed"
    },
    "tags": []
   },
   "outputs": [],
   "source": [
    "my_image = image.load_img(para_cell, target_size=image_shape)"
   ]
  },
  {
   "cell_type": "code",
   "execution_count": 72,
   "metadata": {
    "execution": {
     "iopub.execute_input": "2021-03-03T17:15:29.027572Z",
     "iopub.status.busy": "2021-03-03T17:15:29.026785Z",
     "iopub.status.idle": "2021-03-03T17:15:29.036081Z",
     "shell.execute_reply": "2021-03-03T17:15:29.035671Z"
    },
    "papermill": {
     "duration": 4.393136,
     "end_time": "2021-03-03T17:15:29.036198",
     "exception": false,
     "start_time": "2021-03-03T17:15:24.643062",
     "status": "completed"
    },
    "tags": []
   },
   "outputs": [
    {
     "data": {
      "image/png": "[encoded data removed]",
      "text/plain": [
       "<PIL.Image.Image image mode=RGB size=130x130 at 0x7F2D886A99D0>"
      ]
     },
     "execution_count": 72,
     "metadata": {},
     "output_type": "execute_result"
    }
   ],
   "source": [
    "my_image"
   ]
  },
  {
   "cell_type": "code",
   "execution_count": 73,
   "metadata": {
    "execution": {
     "iopub.execute_input": "2021-03-03T17:15:37.170520Z",
     "iopub.status.busy": "2021-03-03T17:15:37.169709Z",
     "iopub.status.idle": "2021-03-03T17:15:37.172480Z",
     "shell.execute_reply": "2021-03-03T17:15:37.172081Z"
    },
    "papermill": {
     "duration": 4.039196,
     "end_time": "2021-03-03T17:15:37.172619",
     "exception": false,
     "start_time": "2021-03-03T17:15:33.133423",
     "status": "completed"
    },
    "tags": []
   },
   "outputs": [],
   "source": [
    "my_image_arr = image.img_to_array(my_image)"
   ]
  },
  {
   "cell_type": "code",
   "execution_count": 74,
   "metadata": {
    "execution": {
     "iopub.execute_input": "2021-03-03T17:15:45.620313Z",
     "iopub.status.busy": "2021-03-03T17:15:45.619586Z",
     "iopub.status.idle": "2021-03-03T17:15:45.628682Z",
     "shell.execute_reply": "2021-03-03T17:15:45.628260Z"
    },
    "papermill": {
     "duration": 4.082386,
     "end_time": "2021-03-03T17:15:45.628800",
     "exception": false,
     "start_time": "2021-03-03T17:15:41.546414",
     "status": "completed"
    },
    "tags": []
   },
   "outputs": [
    {
     "data": {
      "image/png": "[encoded data removed]",
      "text/plain": [
       "<PIL.Image.Image image mode=RGB size=130x130 at 0x7F2D886A99D0>"
      ]
     },
     "execution_count": 74,
     "metadata": {},
     "output_type": "execute_result"
    }
   ],
   "source": [
    "my_image"
   ]
  },
  {
   "cell_type": "code",
   "execution_count": 75,
   "metadata": {
    "execution": {
     "iopub.execute_input": "2021-03-03T17:15:54.451953Z",
     "iopub.status.busy": "2021-03-03T17:15:54.451204Z",
     "iopub.status.idle": "2021-03-03T17:15:54.454090Z",
     "shell.execute_reply": "2021-03-03T17:15:54.453674Z"
    },
    "papermill": {
     "duration": 4.08785,
     "end_time": "2021-03-03T17:15:54.454209",
     "exception": false,
     "start_time": "2021-03-03T17:15:50.366359",
     "status": "completed"
    },
    "tags": []
   },
   "outputs": [],
   "source": [
    "# my_image_arr"
   ]
  },
  {
   "cell_type": "code",
   "execution_count": 76,
   "metadata": {
    "execution": {
     "iopub.execute_input": "2021-03-03T17:16:02.800563Z",
     "iopub.status.busy": "2021-03-03T17:16:02.799791Z",
     "iopub.status.idle": "2021-03-03T17:16:02.803427Z",
     "shell.execute_reply": "2021-03-03T17:16:02.803007Z"
    },
    "papermill": {
     "duration": 4.311969,
     "end_time": "2021-03-03T17:16:02.803561",
     "exception": false,
     "start_time": "2021-03-03T17:15:58.491592",
     "status": "completed"
    },
    "tags": []
   },
   "outputs": [
    {
     "data": {
      "text/plain": [
       "(130, 130, 3)"
      ]
     },
     "execution_count": 76,
     "metadata": {},
     "output_type": "execute_result"
    }
   ],
   "source": [
    "my_image_arr.shape   # one image (1, 130, 130, 3)"
   ]
  },
  {
   "cell_type": "code",
   "execution_count": 77,
   "metadata": {
    "execution": {
     "iopub.execute_input": "2021-03-03T17:16:11.038711Z",
     "iopub.status.busy": "2021-03-03T17:16:11.037893Z",
     "iopub.status.idle": "2021-03-03T17:16:11.040685Z",
     "shell.execute_reply": "2021-03-03T17:16:11.040258Z"
    },
    "papermill": {
     "duration": 4.116551,
     "end_time": "2021-03-03T17:16:11.040803",
     "exception": false,
     "start_time": "2021-03-03T17:16:06.924252",
     "status": "completed"
    },
    "tags": []
   },
   "outputs": [],
   "source": [
    "my_image_arr = np.expand_dims(my_image_arr, axis=0)"
   ]
  },
  {
   "cell_type": "code",
   "execution_count": 78,
   "metadata": {
    "execution": {
     "iopub.execute_input": "2021-03-03T17:16:19.912041Z",
     "iopub.status.busy": "2021-03-03T17:16:19.911235Z",
     "iopub.status.idle": "2021-03-03T17:16:19.914853Z",
     "shell.execute_reply": "2021-03-03T17:16:19.914420Z"
    },
    "papermill": {
     "duration": 4.600855,
     "end_time": "2021-03-03T17:16:19.914970",
     "exception": false,
     "start_time": "2021-03-03T17:16:15.314115",
     "status": "completed"
    },
    "tags": []
   },
   "outputs": [
    {
     "data": {
      "text/plain": [
       "(1, 130, 130, 3)"
      ]
     },
     "execution_count": 78,
     "metadata": {},
     "output_type": "execute_result"
    }
   ],
   "source": [
    "my_image_arr.shape"
   ]
  },
  {
   "cell_type": "code",
   "execution_count": 79,
   "metadata": {
    "execution": {
     "iopub.execute_input": "2021-03-03T17:16:28.355349Z",
     "iopub.status.busy": "2021-03-03T17:16:28.354574Z",
     "iopub.status.idle": "2021-03-03T17:16:28.461236Z",
     "shell.execute_reply": "2021-03-03T17:16:28.460381Z"
    },
    "papermill": {
     "duration": 4.153583,
     "end_time": "2021-03-03T17:16:28.461358",
     "exception": false,
     "start_time": "2021-03-03T17:16:24.307775",
     "status": "completed"
    },
    "tags": []
   },
   "outputs": [
    {
     "data": {
      "text/plain": [
       "array([[0.00964419]], dtype=float32)"
      ]
     },
     "execution_count": 79,
     "metadata": {},
     "output_type": "execute_result"
    }
   ],
   "source": [
    "model.predict(my_image_arr)   # parasitized"
   ]
  },
  {
   "cell_type": "code",
   "execution_count": 80,
   "metadata": {
    "execution": {
     "iopub.execute_input": "2021-03-03T17:16:36.913998Z",
     "iopub.status.busy": "2021-03-03T17:16:36.913367Z",
     "iopub.status.idle": "2021-03-03T17:16:36.916055Z",
     "shell.execute_reply": "2021-03-03T17:16:36.916459Z"
    },
    "papermill": {
     "duration": 4.398109,
     "end_time": "2021-03-03T17:16:36.916614",
     "exception": false,
     "start_time": "2021-03-03T17:16:32.518505",
     "status": "completed"
    },
    "tags": []
   },
   "outputs": [
    {
     "data": {
      "text/plain": [
       "{'parasitized': 0, 'uninfected': 1}"
      ]
     },
     "execution_count": 80,
     "metadata": {},
     "output_type": "execute_result"
    }
   ],
   "source": [
    "test_image_gen.class_indices"
   ]
  }
 ],
 "metadata": {
  "kernelspec": {
   "display_name": "Python 3 (ipykernel)",
   "language": "python",
   "name": "python3"
  },
  "language_info": {
   "codemirror_mode": {
    "name": "ipython",
    "version": 3
   },
   "file_extension": ".py",
   "mimetype": "text/x-python",
   "name": "python",
   "nbconvert_exporter": "python",
   "pygments_lexer": "ipython3",
   "version": "3.9.7"
  },
  "papermill": {
   "default_parameters": {},
   "duration": 1799.733643,
   "end_time": "2021-03-03T17:16:51.980303",
   "environment_variables": {},
   "exception": null,
   "input_path": "__notebook__.ipynb",
   "output_path": "__notebook__.ipynb",
   "parameters": {},
   "start_time": "2021-03-03T16:46:52.246660",
   "version": "2.2.2"
  }
 },
 "nbformat": 4,
 "nbformat_minor": 4
}
